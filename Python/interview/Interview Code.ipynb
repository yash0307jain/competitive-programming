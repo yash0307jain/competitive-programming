{
 "cells": [
  {
   "cell_type": "markdown",
   "metadata": {},
   "source": [
    "## Basics"
   ]
  },
  {
   "cell_type": "markdown",
   "metadata": {},
   "source": [
    "##### Optional arguments in functions"
   ]
  },
  {
   "cell_type": "code",
   "execution_count": 1,
   "metadata": {},
   "outputs": [
    {
     "name": "stdout",
     "output_type": "stream",
     "text": [
      "97\n",
      "A\n"
     ]
    }
   ],
   "source": [
    "# ord converts alphabets to ASCII value\n",
    "print(ord('a'))\n",
    "\n",
    "# chr converts ASCII value to alphabets\n",
    "print(chr(65))"
   ]
  },
  {
   "cell_type": "code",
   "execution_count": 2,
   "metadata": {},
   "outputs": [
    {
     "name": "stdout",
     "output_type": "stream",
     "text": [
      "0:0:0\n",
      "5:0:0\n",
      "5:10:0\n",
      "5:10:15\n"
     ]
    }
   ],
   "source": [
    "def whatTime(hour = 0, minute = 0, second = 0):\n",
    "    print(str(hour) + ':' + str(minute) + ':' + str(second))\n",
    "    \n",
    "whatTime()\n",
    "whatTime(5)\n",
    "whatTime(5, 10)\n",
    "whatTime(5, 10, 15)"
   ]
  },
  {
   "cell_type": "markdown",
   "metadata": {},
   "source": [
    "##### For loop in reverse order"
   ]
  },
  {
   "cell_type": "code",
   "execution_count": 3,
   "metadata": {},
   "outputs": [
    {
     "name": "stdout",
     "output_type": "stream",
     "text": [
      "5, 4, 3, 2, 1, 0, "
     ]
    }
   ],
   "source": [
    "for i in range(5, -1, -1):\n",
    "    print(i, end=\", \")"
   ]
  },
  {
   "cell_type": "markdown",
   "metadata": {},
   "source": [
    "##### For loop with steps"
   ]
  },
  {
   "cell_type": "code",
   "execution_count": 4,
   "metadata": {},
   "outputs": [
    {
     "name": "stdout",
     "output_type": "stream",
     "text": [
      "0, 2, 4, "
     ]
    }
   ],
   "source": [
    "for i in range(0, 5, 2):\n",
    "    print(i, end=\", \")"
   ]
  },
  {
   "cell_type": "markdown",
   "metadata": {},
   "source": [
    "##### For loop in reverse order with steps"
   ]
  },
  {
   "cell_type": "code",
   "execution_count": 5,
   "metadata": {},
   "outputs": [
    {
     "name": "stdout",
     "output_type": "stream",
     "text": [
      "5, 3, 1, "
     ]
    }
   ],
   "source": [
    "for i in range(5, -1, -2):\n",
    "    print(i, end=\", \")"
   ]
  },
  {
   "cell_type": "markdown",
   "metadata": {},
   "source": [
    "##### Reverse the array using generators"
   ]
  },
  {
   "cell_type": "code",
   "execution_count": 6,
   "metadata": {},
   "outputs": [
    {
     "name": "stdout",
     "output_type": "stream",
     "text": [
      "4, 3, 2, 1, 0, "
     ]
    }
   ],
   "source": [
    "def reverse(arr):\n",
    "    for i in range(len(arr) - 1, -1, -1):\n",
    "        yield arr[i]\n",
    "\n",
    "arr = [i for i in range(5)]\n",
    "for i in reverse(arr):\n",
    "    print(i, end=\", \")"
   ]
  },
  {
   "cell_type": "markdown",
   "metadata": {},
   "source": [
    "# ------------------------------------------------------"
   ]
  },
  {
   "cell_type": "markdown",
   "metadata": {},
   "source": [
    "## Classes in Python"
   ]
  },
  {
   "cell_type": "markdown",
   "metadata": {},
   "source": [
    "##### Basic exmaple with constructor"
   ]
  },
  {
   "cell_type": "code",
   "execution_count": 7,
   "metadata": {},
   "outputs": [],
   "source": [
    "class Computer:\n",
    "    def __init__(self, processor, ram, rom):\n",
    "        self.processor = processor\n",
    "        self.ram = ram\n",
    "        self.rom = rom\n",
    "        \n",
    "    def display(self):\n",
    "        print('Processor: ', self.processor)\n",
    "        print('RAM: ', self.ram)\n",
    "        print('ROM: ', self.rom)"
   ]
  },
  {
   "cell_type": "code",
   "execution_count": 8,
   "metadata": {},
   "outputs": [
    {
     "name": "stdout",
     "output_type": "stream",
     "text": [
      "Processor:  M1\n",
      "RAM:  8GB\n",
      "ROM:  256GB\n"
     ]
    }
   ],
   "source": [
    "comp1 = Computer('M1', '8GB', '256GB')\n",
    "comp1.display()"
   ]
  },
  {
   "cell_type": "markdown",
   "metadata": {},
   "source": [
    "### Inheritance"
   ]
  },
  {
   "cell_type": "markdown",
   "metadata": {},
   "source": [
    "##### Example 1 with only constructor in parent class"
   ]
  },
  {
   "cell_type": "code",
   "execution_count": 9,
   "metadata": {},
   "outputs": [],
   "source": [
    "class Person:\n",
    "    def __init__(self, name):\n",
    "        self.name = name\n",
    "    \n",
    "    def getName(self):\n",
    "        return self.name\n",
    "    \n",
    "    def isEmployee(self):\n",
    "        return False;\n",
    "    \n",
    "class Employee(Person):\n",
    "    def isEmployee(self):\n",
    "        return True"
   ]
  },
  {
   "cell_type": "code",
   "execution_count": 10,
   "metadata": {},
   "outputs": [
    {
     "name": "stdout",
     "output_type": "stream",
     "text": [
      "Person name: Yash\n",
      "Person isEmployee:  False\n",
      "Employee name: Yashu\n",
      "Employee isEmployee: True\n"
     ]
    }
   ],
   "source": [
    "person = Person('Yash')\n",
    "employee = Employee('Yashu')\n",
    "\n",
    "print(\"Person name:\", person.name)\n",
    "print(\"Person isEmployee: \", person.isEmployee())\n",
    "\n",
    "print(\"Employee name:\", employee.name)\n",
    "print(\"Employee isEmployee:\", employee.isEmployee())"
   ]
  },
  {
   "cell_type": "markdown",
   "metadata": {},
   "source": [
    "##### Example 1 with constructors in parent and chile class"
   ]
  },
  {
   "cell_type": "code",
   "execution_count": 11,
   "metadata": {},
   "outputs": [],
   "source": [
    "class Person:\n",
    "    def __init__(self, name):\n",
    "        self.name = name\n",
    "    \n",
    "    def getName(self):\n",
    "        return self.name\n",
    "    \n",
    "    def isEmployee(self):\n",
    "        return False;\n",
    "    \n",
    "class Employee(Person):\n",
    "    def __init__(self, name, department):\n",
    "        self.name = name\n",
    "        self.department = department\n",
    "    \n",
    "    def isEmployee(self):\n",
    "        return True"
   ]
  },
  {
   "cell_type": "code",
   "execution_count": 12,
   "metadata": {},
   "outputs": [
    {
     "name": "stdout",
     "output_type": "stream",
     "text": [
      "Person name: Yash\n",
      "Person isEmployee:  False\n",
      "Employee name: Keenu\n",
      "Employee department: Machine Learning\n",
      "Employee isEmployee: True\n"
     ]
    }
   ],
   "source": [
    "person = Person('Yash')\n",
    "employee = Employee('Keenu', 'Machine Learning')\n",
    "\n",
    "print(\"Person name:\", person.name)\n",
    "print(\"Person isEmployee: \", person.isEmployee())\n",
    "\n",
    "print(\"Employee name:\", employee.name)\n",
    "print(\"Employee department:\", employee.department)\n",
    "print(\"Employee isEmployee:\", employee.isEmployee())"
   ]
  },
  {
   "cell_type": "markdown",
   "metadata": {},
   "source": [
    "##### Example 2 with constructors in parent and chile class"
   ]
  },
  {
   "cell_type": "code",
   "execution_count": 13,
   "metadata": {},
   "outputs": [],
   "source": [
    "class Person:\n",
    "    def __init__(self, name):\n",
    "        self.name = name\n",
    "    \n",
    "    def getName(self):\n",
    "        return self.name\n",
    "    \n",
    "    def display(self):\n",
    "        print(self.name)\n",
    "    \n",
    "    def isEmployee(self):\n",
    "        print(False)\n",
    "    \n",
    "class Employee(Person):\n",
    "    def __init__(self, name, department):\n",
    "        self.name = name\n",
    "        self.department = department\n",
    "    \n",
    "    def isEmployee(self):\n",
    "        print(True)"
   ]
  },
  {
   "cell_type": "code",
   "execution_count": 14,
   "metadata": {},
   "outputs": [
    {
     "name": "stdout",
     "output_type": "stream",
     "text": [
      "True\n",
      "Keenu\n"
     ]
    }
   ],
   "source": [
    "employee = Employee('Keenu', 'Machine Learning')\n",
    "employee.isEmployee()\n",
    "employee.display()"
   ]
  },
  {
   "cell_type": "markdown",
   "metadata": {},
   "source": [
    "##### Private variables in a class"
   ]
  },
  {
   "cell_type": "code",
   "execution_count": 15,
   "metadata": {},
   "outputs": [],
   "source": [
    "class Person:\n",
    "    def __init__(self, name, relationship_status):\n",
    "        self.name = name\n",
    "        self.__relationship_status = relationship_status\n",
    "        \n",
    "    def display(self):\n",
    "        print('Name:', self.name)\n",
    "        print('Relationship Status:', self.__relationship_status)\n",
    "        \n",
    "class Employee(Person):\n",
    "    def __init__(self, name, department):\n",
    "        self.name = name\n",
    "        self.department = department\n",
    "\n",
    "    def display(self):\n",
    "        print('Name:', self.name)\n",
    "        print('Department:', self.department)"
   ]
  },
  {
   "cell_type": "code",
   "execution_count": 16,
   "metadata": {},
   "outputs": [
    {
     "name": "stdout",
     "output_type": "stream",
     "text": [
      "Name: Keenu\n",
      "Relationship Status: Cutie\n",
      "Person name: Keenu\n",
      "---This is private---\n",
      "Name: Yash\n",
      "Department: ML\n",
      "Employee name: Yash\n",
      "Employee deparment: ML\n"
     ]
    }
   ],
   "source": [
    "try:\n",
    "    person = Person('Keenu', 'Cutie')\n",
    "    person.display()\n",
    "    print('Person name:', person.name)\n",
    "    try:\n",
    "        print('Person relationship status:', person.__relationship_status)\n",
    "    except:\n",
    "        print(\"---This is private---\")\n",
    "\n",
    "    employee = Employee('Yash', 'ML')\n",
    "    employee.display()\n",
    "    print('Employee name:', employee.name)\n",
    "    print('Employee deparment:', employee.department)\n",
    "except Exception as ex:\n",
    "    print(str(ex))"
   ]
  },
  {
   "cell_type": "markdown",
   "metadata": {},
   "source": [
    "## Input Ouput Operations"
   ]
  },
  {
   "cell_type": "markdown",
   "metadata": {},
   "source": [
    "##### Write into file"
   ]
  },
  {
   "cell_type": "code",
   "execution_count": 17,
   "metadata": {},
   "outputs": [],
   "source": [
    "with open('file.txt', 'w', encoding='utf-8') as file:\n",
    "    file.write('This is first line of Python IO operations\\n')\n",
    "    file.write('This is second line of Python IO operations\\n')"
   ]
  },
  {
   "cell_type": "markdown",
   "metadata": {},
   "source": [
    "##### Read from file"
   ]
  },
  {
   "cell_type": "code",
   "execution_count": 18,
   "metadata": {},
   "outputs": [
    {
     "name": "stdout",
     "output_type": "stream",
     "text": [
      "This is first line of Python IO operations\n",
      "\n",
      "This is second line of Python IO operations\n",
      "\n"
     ]
    }
   ],
   "source": [
    "with open('file.txt', 'r', encoding='utf-8') as file:\n",
    "    line = file.readlines()\n",
    "    for i in range(len(line)):\n",
    "        print(line[i])"
   ]
  },
  {
   "cell_type": "markdown",
   "metadata": {},
   "source": [
    "##### Append into file"
   ]
  },
  {
   "cell_type": "code",
   "execution_count": 19,
   "metadata": {},
   "outputs": [],
   "source": [
    "with open('file.txt', 'a', encoding='utf-8') as file:\n",
    "    file.write('This is third line of Python IO operations\\n')"
   ]
  },
  {
   "cell_type": "markdown",
   "metadata": {},
   "source": [
    "##### Read from file"
   ]
  },
  {
   "cell_type": "code",
   "execution_count": 20,
   "metadata": {},
   "outputs": [
    {
     "name": "stdout",
     "output_type": "stream",
     "text": [
      "This is first line of Python IO operations\n",
      "\n",
      "This is second line of Python IO operations\n",
      "\n",
      "This is third line of Python IO operations\n",
      "\n"
     ]
    }
   ],
   "source": [
    "with open('file.txt', 'r', encoding='utf-8') as file:\n",
    "    line = file.readlines()\n",
    "    for i in range(len(line)):\n",
    "        print(line[i])"
   ]
  },
  {
   "cell_type": "code",
   "execution_count": null,
   "metadata": {},
   "outputs": [],
   "source": []
  }
 ],
 "metadata": {
  "kernelspec": {
   "display_name": "Python 3",
   "language": "python",
   "name": "python3"
  },
  "language_info": {
   "codemirror_mode": {
    "name": "ipython",
    "version": 3
   },
   "file_extension": ".py",
   "mimetype": "text/x-python",
   "name": "python",
   "nbconvert_exporter": "python",
   "pygments_lexer": "ipython3",
   "version": "3.8.5"
  }
 },
 "nbformat": 4,
 "nbformat_minor": 4
}
